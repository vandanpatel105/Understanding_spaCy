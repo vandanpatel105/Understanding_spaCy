{
  "nbformat": 4,
  "nbformat_minor": 0,
  "metadata": {
    "colab": {
      "name": "Content_NLP",
      "provenance": [],
      "toc_visible": true
    },
    "kernelspec": {
      "name": "python3",
      "display_name": "Python 3"
    },
    "accelerator": "GPU"
  },
  "cells": [
    {
      "cell_type": "markdown",
      "metadata": {
        "id": "Fl4oFnGVz3Sv",
        "colab_type": "text"
      },
      "source": [
        "#Understanding Spacy\n",
        "\n",
        "\n",
        "The field of Natural Language Processing has seen a lot of progress over time & this is well evident by the development of some specialised libraries.\n",
        "\n",
        "One such library is Spacy. If a person is working with lot of text data, he would want to unerstand it better. For example, what is the data about? Context of the words? What is the key point of the text? \n",
        "\n",
        "Here comes **SpaCy** which is designed specifically for production use and helps one build applications that process and “understand” large text data. \n",
        "\n",
        "\n",
        "It is one stop shop for NLP tasks such as - \n",
        "\n",
        "*   Tokenisation\n",
        "*   Lemmatisation\n",
        "*   POS tagging\n",
        "*   Entity recognition\n",
        "*   Word-to-vector transformations\n",
        "*   Different Methods for cleaning and Processing text\n",
        "\n",
        "In this article, we will try to learn the use of Spacy, a fast-growing industry standard library for NLP in Python.\n",
        "It is incredibly fast as it is implemented in Cython and basically is sort of Numpy for NLP.\n",
        "\n",
        "In the first part of the article we try to understand the basic implementation of NLP tasks in Spacy such as Tokenization, Lemmatization, POS tagging & Entity Recognition.\n",
        "\n",
        "And in the second part we explore the features of large scale data using spaCy.\n",
        "\n",
        "#Installing Spacy\n",
        "\n",
        "First let us understand installing the spacy library in Anaconda\n",
        "\n",
        "**Installing Spacy using Conda**\n",
        "\n",
        "    conda install -c conda-forge spacy\n",
        "    sudo python -m spacy download en\n",
        "    sudo python -m spacy download fr\n",
        "\n",
        "Now lets import the library and start playing with it"
      ]
    },
    {
      "cell_type": "code",
      "metadata": {
        "id": "QqBHJZX20FdU",
        "colab_type": "code",
        "colab": {}
      },
      "source": [
        "import spacy"
      ],
      "execution_count": 0,
      "outputs": []
    },
    {
      "cell_type": "markdown",
      "metadata": {
        "id": "LSrovwQs0f62",
        "colab_type": "text"
      },
      "source": [
        "#Using Spacy\n",
        "**Understanding basic implementations of NLP tasks in spacy and Working with statistical models, using them to predict linguistic features in our text**\n",
        "\n",
        "\n",
        "Initially we have to insantiate Spacy's pipeline using a variable named *nlp*.\n",
        "To insantiate *nlp* first we import the English language class from spacy.lang.in. "
      ]
    },
    {
      "cell_type": "code",
      "metadata": {
        "id": "rSM4avKb0Z5U",
        "colab_type": "code",
        "colab": {}
      },
      "source": [
        "# Importing the English language class\n",
        "from spacy.lang.en import English\n",
        "\n",
        "# Creating the nlp object\n",
        "nlp = English()"
      ],
      "execution_count": 0,
      "outputs": []
    },
    {
      "cell_type": "markdown",
      "metadata": {
        "id": "In5RX14s2SWV",
        "colab_type": "text"
      },
      "source": [
        "#Reading and Tokenization\n",
        "\n",
        "We pass our text to the nlp object we created and thus the text is converted in Spacy readable form, which is basically a document. Then the doc lets us access the text in structured way, letting us iterate over the tokens, getting a token by its index etc."
      ]
    },
    {
      "cell_type": "code",
      "metadata": {
        "id": "AyH1JN6H0aJf",
        "colab_type": "code",
        "outputId": "083fb24a-f061-4325-9924-7f58db3b2e41",
        "colab": {
          "base_uri": "https://localhost:8080/",
          "height": 34
        }
      },
      "source": [
        "doc = nlp('Life is beautiful if you do not take it too seriously')\n",
        "print([token.text for token in doc])"
      ],
      "execution_count": 12,
      "outputs": [
        {
          "output_type": "stream",
          "text": [
            "['Life', 'is', 'beautiful', 'if', 'you', 'do', 'not', 'take', 'it', 'too', 'seriously']\n"
          ],
          "name": "stdout"
        }
      ]
    },
    {
      "cell_type": "markdown",
      "metadata": {
        "id": "W5HTM3Ap7alr",
        "colab_type": "text"
      },
      "source": [
        "We can slice/index tokens in a way similar to what we do in lists\n",
        "\n",
        "Also different attributes can be performed on tokens which gives us more information about the tokens.\n",
        "For example we can remove stop words from the tokens, **is_alpha** detects if the token consists of alphabetic characters or not, similarly **is_punct**  detects if the token is a punctuation symbol or not."
      ]
    },
    {
      "cell_type": "code",
      "metadata": {
        "id": "Nq9dszQ87HXk",
        "colab_type": "code",
        "outputId": "6327cc5c-23af-4579-ce35-c5eb1edca4ec",
        "colab": {
          "base_uri": "https://localhost:8080/",
          "height": 34
        }
      },
      "source": [
        "print([token.text for token in doc if not token.is_stop ])"
      ],
      "execution_count": 13,
      "outputs": [
        {
          "output_type": "stream",
          "text": [
            "['Life', 'beautiful', 'seriously']\n"
          ],
          "name": "stdout"
        }
      ]
    },
    {
      "cell_type": "markdown",
      "metadata": {
        "id": "uBr4Z-KL-AFK",
        "colab_type": "text"
      },
      "source": [
        "We can also **lemmatize** the tokens using .lemma_ attribute"
      ]
    },
    {
      "cell_type": "code",
      "metadata": {
        "id": "OSbJwFUt9tBe",
        "colab_type": "code",
        "outputId": "063462a5-bc61-4e01-fbe8-7ea64e60b173",
        "colab": {
          "base_uri": "https://localhost:8080/",
          "height": 34
        }
      },
      "source": [
        "text = 'loving the love of being loved'\n",
        "doc = nlp(text)\n",
        "\n",
        "print([token.lemma_ for token in doc])"
      ],
      "execution_count": 14,
      "outputs": [
        {
          "output_type": "stream",
          "text": [
            "['love', 'the', 'love', 'of', 'be', 'love']\n"
          ],
          "name": "stdout"
        }
      ]
    },
    {
      "cell_type": "markdown",
      "metadata": {
        "id": "RmJTIGNUCudP",
        "colab_type": "text"
      },
      "source": [
        "#Statistical Models & Linguistic Features\n",
        "\n",
        "Understanding the context of a sentence can help machine make better predictions about the data.\n",
        "\n",
        "Pre-trained statistical models help spaCy make predictions in context.\n",
        "\n",
        "The pre-trained models can be downloaded using the 'spacy download' command.\n",
        "\n",
        "The 'en_core_web_sm' package is one such package which can support all the functionalities and is trained on web data.\n",
        "\n",
        "It provides spaCy with binary weights and vocabulary that enables it to make predictions.\n",
        "\n",
        "*   Parts of Speech tags\n"
      ]
    },
    {
      "cell_type": "code",
      "metadata": {
        "id": "RjvsVG7C-yDV",
        "colab_type": "code",
        "outputId": "a3454fa8-e471-470d-806e-17b03a32ded5",
        "colab": {
          "base_uri": "https://localhost:8080/",
          "height": 54
        }
      },
      "source": [
        "# Load the small English model – spaCy is already imported\n",
        "nlp = spacy.load('en_core_web_sm')\n",
        "\n",
        "sent = 'Parth has been ignorant this semester and would have to suffer for the same'\n",
        "\n",
        "doc = nlp(sent)\n",
        "\n",
        "# Coarse-grained part-of-speech tags\n",
        "print([(token.text,token.pos_) for token in doc])\n"
      ],
      "execution_count": 15,
      "outputs": [
        {
          "output_type": "stream",
          "text": [
            "[('Parth', 'PROPN'), ('has', 'VERB'), ('been', 'VERB'), ('ignorant', 'ADJ'), ('this', 'DET'), ('semester', 'NOUN'), ('and', 'CCONJ'), ('would', 'VERB'), ('have', 'VERB'), ('to', 'PART'), ('suffer', 'VERB'), ('for', 'ADP'), ('the', 'DET'), ('same', 'ADJ')]\n"
          ],
          "name": "stdout"
        }
      ]
    },
    {
      "cell_type": "code",
      "metadata": {
        "id": "EcKrud2wFxcP",
        "colab_type": "code",
        "outputId": "0f7245cc-ec56-49ac-8bdd-f07603db364d",
        "colab": {
          "base_uri": "https://localhost:8080/",
          "height": 54
        }
      },
      "source": [
        "# Fine-grained part-of-speech tags\n",
        "print([(token.text,token.tag_) for token in doc])"
      ],
      "execution_count": 16,
      "outputs": [
        {
          "output_type": "stream",
          "text": [
            "[('Parth', 'NNP'), ('has', 'VBZ'), ('been', 'VBN'), ('ignorant', 'JJ'), ('this', 'DT'), ('semester', 'NN'), ('and', 'CC'), ('would', 'MD'), ('have', 'VB'), ('to', 'TO'), ('suffer', 'VB'), ('for', 'IN'), ('the', 'DT'), ('same', 'JJ')]\n"
          ],
          "name": "stdout"
        }
      ]
    },
    {
      "cell_type": "markdown",
      "metadata": {
        "id": "Lrp0i5pgGTrC",
        "colab_type": "text"
      },
      "source": [
        "\n",
        "*   Named entity recognition\n"
      ]
    },
    {
      "cell_type": "code",
      "metadata": {
        "id": "_GkbuuuWGJCv",
        "colab_type": "code",
        "outputId": "49fa4f73-eb03-4a37-91f4-700e0ccf5f26",
        "colab": {
          "base_uri": "https://localhost:8080/",
          "height": 34
        }
      },
      "source": [
        "doc = nlp(\"Harry has total right to sew apple for the cheating\")\n",
        "\n",
        "# Text and label of named entity span\n",
        "\n",
        "print([(tok.text, tok.label_) for tok in doc.ents])"
      ],
      "execution_count": 17,
      "outputs": [
        {
          "output_type": "stream",
          "text": [
            "[('Harry', 'PERSON')]\n"
          ],
          "name": "stdout"
        }
      ]
    },
    {
      "cell_type": "markdown",
      "metadata": {
        "id": "NQw_yMDJHAfp",
        "colab_type": "text"
      },
      "source": [
        "\n",
        "#Visualising dependencies"
      ]
    },
    {
      "cell_type": "code",
      "metadata": {
        "id": "EvVivmQKGJl1",
        "colab_type": "code",
        "colab": {}
      },
      "source": [
        "from spacy import displacy  "
      ],
      "execution_count": 0,
      "outputs": []
    },
    {
      "cell_type": "code",
      "metadata": {
        "id": "K0unfqcqGJoV",
        "colab_type": "code",
        "outputId": "a3fd6eaa-392e-46c3-887a-6d374f28b368",
        "colab": {
          "base_uri": "https://localhost:8080/",
          "height": 388
        }
      },
      "source": [
        "displacy.render(doc, style=\"dep\",jupyter = True,options = {'distance':140})"
      ],
      "execution_count": 19,
      "outputs": [
        {
          "output_type": "display_data",
          "data": {
            "text/html": [
              "<svg xmlns=\"http://www.w3.org/2000/svg\" xmlns:xlink=\"http://www.w3.org/1999/xlink\" xml:lang=\"en\" id=\"d37d4126b1e44600a51f0a3bde73f6f3-0\" class=\"displacy\" width=\"1450\" height=\"347.0\" direction=\"ltr\" style=\"max-width: none; height: 347.0px; color: #000000; background: #ffffff; font-family: Arial; direction: ltr\">\n",
              "<text class=\"displacy-token\" fill=\"currentColor\" text-anchor=\"middle\" y=\"257.0\">\n",
              "    <tspan class=\"displacy-word\" fill=\"currentColor\" x=\"50\">Harry</tspan>\n",
              "    <tspan class=\"displacy-tag\" dy=\"2em\" fill=\"currentColor\" x=\"50\">PROPN</tspan>\n",
              "</text>\n",
              "\n",
              "<text class=\"displacy-token\" fill=\"currentColor\" text-anchor=\"middle\" y=\"257.0\">\n",
              "    <tspan class=\"displacy-word\" fill=\"currentColor\" x=\"190\">has</tspan>\n",
              "    <tspan class=\"displacy-tag\" dy=\"2em\" fill=\"currentColor\" x=\"190\">VERB</tspan>\n",
              "</text>\n",
              "\n",
              "<text class=\"displacy-token\" fill=\"currentColor\" text-anchor=\"middle\" y=\"257.0\">\n",
              "    <tspan class=\"displacy-word\" fill=\"currentColor\" x=\"330\">total</tspan>\n",
              "    <tspan class=\"displacy-tag\" dy=\"2em\" fill=\"currentColor\" x=\"330\">ADJ</tspan>\n",
              "</text>\n",
              "\n",
              "<text class=\"displacy-token\" fill=\"currentColor\" text-anchor=\"middle\" y=\"257.0\">\n",
              "    <tspan class=\"displacy-word\" fill=\"currentColor\" x=\"470\">right</tspan>\n",
              "    <tspan class=\"displacy-tag\" dy=\"2em\" fill=\"currentColor\" x=\"470\">ADV</tspan>\n",
              "</text>\n",
              "\n",
              "<text class=\"displacy-token\" fill=\"currentColor\" text-anchor=\"middle\" y=\"257.0\">\n",
              "    <tspan class=\"displacy-word\" fill=\"currentColor\" x=\"610\">to</tspan>\n",
              "    <tspan class=\"displacy-tag\" dy=\"2em\" fill=\"currentColor\" x=\"610\">PART</tspan>\n",
              "</text>\n",
              "\n",
              "<text class=\"displacy-token\" fill=\"currentColor\" text-anchor=\"middle\" y=\"257.0\">\n",
              "    <tspan class=\"displacy-word\" fill=\"currentColor\" x=\"750\">sew</tspan>\n",
              "    <tspan class=\"displacy-tag\" dy=\"2em\" fill=\"currentColor\" x=\"750\">VERB</tspan>\n",
              "</text>\n",
              "\n",
              "<text class=\"displacy-token\" fill=\"currentColor\" text-anchor=\"middle\" y=\"257.0\">\n",
              "    <tspan class=\"displacy-word\" fill=\"currentColor\" x=\"890\">apple</tspan>\n",
              "    <tspan class=\"displacy-tag\" dy=\"2em\" fill=\"currentColor\" x=\"890\">NOUN</tspan>\n",
              "</text>\n",
              "\n",
              "<text class=\"displacy-token\" fill=\"currentColor\" text-anchor=\"middle\" y=\"257.0\">\n",
              "    <tspan class=\"displacy-word\" fill=\"currentColor\" x=\"1030\">for</tspan>\n",
              "    <tspan class=\"displacy-tag\" dy=\"2em\" fill=\"currentColor\" x=\"1030\">ADP</tspan>\n",
              "</text>\n",
              "\n",
              "<text class=\"displacy-token\" fill=\"currentColor\" text-anchor=\"middle\" y=\"257.0\">\n",
              "    <tspan class=\"displacy-word\" fill=\"currentColor\" x=\"1170\">the</tspan>\n",
              "    <tspan class=\"displacy-tag\" dy=\"2em\" fill=\"currentColor\" x=\"1170\">DET</tspan>\n",
              "</text>\n",
              "\n",
              "<text class=\"displacy-token\" fill=\"currentColor\" text-anchor=\"middle\" y=\"257.0\">\n",
              "    <tspan class=\"displacy-word\" fill=\"currentColor\" x=\"1310\">cheating</tspan>\n",
              "    <tspan class=\"displacy-tag\" dy=\"2em\" fill=\"currentColor\" x=\"1310\">NOUN</tspan>\n",
              "</text>\n",
              "\n",
              "<g class=\"displacy-arrow\">\n",
              "    <path class=\"displacy-arc\" id=\"arrow-d37d4126b1e44600a51f0a3bde73f6f3-0-0\" stroke-width=\"2px\" d=\"M70,212.0 C70,142.0 180.0,142.0 180.0,212.0\" fill=\"none\" stroke=\"currentColor\"/>\n",
              "    <text dy=\"1.25em\" style=\"font-size: 0.8em; letter-spacing: 1px\">\n",
              "        <textPath xlink:href=\"#arrow-d37d4126b1e44600a51f0a3bde73f6f3-0-0\" class=\"displacy-label\" startOffset=\"50%\" side=\"left\" fill=\"currentColor\" text-anchor=\"middle\">nsubj</textPath>\n",
              "    </text>\n",
              "    <path class=\"displacy-arrowhead\" d=\"M70,214.0 L62,202.0 78,202.0\" fill=\"currentColor\"/>\n",
              "</g>\n",
              "\n",
              "<g class=\"displacy-arrow\">\n",
              "    <path class=\"displacy-arc\" id=\"arrow-d37d4126b1e44600a51f0a3bde73f6f3-0-1\" stroke-width=\"2px\" d=\"M210,212.0 C210,142.0 320.0,142.0 320.0,212.0\" fill=\"none\" stroke=\"currentColor\"/>\n",
              "    <text dy=\"1.25em\" style=\"font-size: 0.8em; letter-spacing: 1px\">\n",
              "        <textPath xlink:href=\"#arrow-d37d4126b1e44600a51f0a3bde73f6f3-0-1\" class=\"displacy-label\" startOffset=\"50%\" side=\"left\" fill=\"currentColor\" text-anchor=\"middle\">aux</textPath>\n",
              "    </text>\n",
              "    <path class=\"displacy-arrowhead\" d=\"M210,214.0 L202,202.0 218,202.0\" fill=\"currentColor\"/>\n",
              "</g>\n",
              "\n",
              "<g class=\"displacy-arrow\">\n",
              "    <path class=\"displacy-arc\" id=\"arrow-d37d4126b1e44600a51f0a3bde73f6f3-0-2\" stroke-width=\"2px\" d=\"M350,212.0 C350,142.0 460.0,142.0 460.0,212.0\" fill=\"none\" stroke=\"currentColor\"/>\n",
              "    <text dy=\"1.25em\" style=\"font-size: 0.8em; letter-spacing: 1px\">\n",
              "        <textPath xlink:href=\"#arrow-d37d4126b1e44600a51f0a3bde73f6f3-0-2\" class=\"displacy-label\" startOffset=\"50%\" side=\"left\" fill=\"currentColor\" text-anchor=\"middle\">dobj</textPath>\n",
              "    </text>\n",
              "    <path class=\"displacy-arrowhead\" d=\"M460.0,214.0 L468.0,202.0 452.0,202.0\" fill=\"currentColor\"/>\n",
              "</g>\n",
              "\n",
              "<g class=\"displacy-arrow\">\n",
              "    <path class=\"displacy-arc\" id=\"arrow-d37d4126b1e44600a51f0a3bde73f6f3-0-3\" stroke-width=\"2px\" d=\"M630,212.0 C630,142.0 740.0,142.0 740.0,212.0\" fill=\"none\" stroke=\"currentColor\"/>\n",
              "    <text dy=\"1.25em\" style=\"font-size: 0.8em; letter-spacing: 1px\">\n",
              "        <textPath xlink:href=\"#arrow-d37d4126b1e44600a51f0a3bde73f6f3-0-3\" class=\"displacy-label\" startOffset=\"50%\" side=\"left\" fill=\"currentColor\" text-anchor=\"middle\">aux</textPath>\n",
              "    </text>\n",
              "    <path class=\"displacy-arrowhead\" d=\"M630,214.0 L622,202.0 638,202.0\" fill=\"currentColor\"/>\n",
              "</g>\n",
              "\n",
              "<g class=\"displacy-arrow\">\n",
              "    <path class=\"displacy-arc\" id=\"arrow-d37d4126b1e44600a51f0a3bde73f6f3-0-4\" stroke-width=\"2px\" d=\"M350,212.0 C350,2.0 750.0,2.0 750.0,212.0\" fill=\"none\" stroke=\"currentColor\"/>\n",
              "    <text dy=\"1.25em\" style=\"font-size: 0.8em; letter-spacing: 1px\">\n",
              "        <textPath xlink:href=\"#arrow-d37d4126b1e44600a51f0a3bde73f6f3-0-4\" class=\"displacy-label\" startOffset=\"50%\" side=\"left\" fill=\"currentColor\" text-anchor=\"middle\">xcomp</textPath>\n",
              "    </text>\n",
              "    <path class=\"displacy-arrowhead\" d=\"M750.0,214.0 L758.0,202.0 742.0,202.0\" fill=\"currentColor\"/>\n",
              "</g>\n",
              "\n",
              "<g class=\"displacy-arrow\">\n",
              "    <path class=\"displacy-arc\" id=\"arrow-d37d4126b1e44600a51f0a3bde73f6f3-0-5\" stroke-width=\"2px\" d=\"M770,212.0 C770,142.0 880.0,142.0 880.0,212.0\" fill=\"none\" stroke=\"currentColor\"/>\n",
              "    <text dy=\"1.25em\" style=\"font-size: 0.8em; letter-spacing: 1px\">\n",
              "        <textPath xlink:href=\"#arrow-d37d4126b1e44600a51f0a3bde73f6f3-0-5\" class=\"displacy-label\" startOffset=\"50%\" side=\"left\" fill=\"currentColor\" text-anchor=\"middle\">dobj</textPath>\n",
              "    </text>\n",
              "    <path class=\"displacy-arrowhead\" d=\"M880.0,214.0 L888.0,202.0 872.0,202.0\" fill=\"currentColor\"/>\n",
              "</g>\n",
              "\n",
              "<g class=\"displacy-arrow\">\n",
              "    <path class=\"displacy-arc\" id=\"arrow-d37d4126b1e44600a51f0a3bde73f6f3-0-6\" stroke-width=\"2px\" d=\"M770,212.0 C770,72.0 1025.0,72.0 1025.0,212.0\" fill=\"none\" stroke=\"currentColor\"/>\n",
              "    <text dy=\"1.25em\" style=\"font-size: 0.8em; letter-spacing: 1px\">\n",
              "        <textPath xlink:href=\"#arrow-d37d4126b1e44600a51f0a3bde73f6f3-0-6\" class=\"displacy-label\" startOffset=\"50%\" side=\"left\" fill=\"currentColor\" text-anchor=\"middle\">prep</textPath>\n",
              "    </text>\n",
              "    <path class=\"displacy-arrowhead\" d=\"M1025.0,214.0 L1033.0,202.0 1017.0,202.0\" fill=\"currentColor\"/>\n",
              "</g>\n",
              "\n",
              "<g class=\"displacy-arrow\">\n",
              "    <path class=\"displacy-arc\" id=\"arrow-d37d4126b1e44600a51f0a3bde73f6f3-0-7\" stroke-width=\"2px\" d=\"M1190,212.0 C1190,142.0 1300.0,142.0 1300.0,212.0\" fill=\"none\" stroke=\"currentColor\"/>\n",
              "    <text dy=\"1.25em\" style=\"font-size: 0.8em; letter-spacing: 1px\">\n",
              "        <textPath xlink:href=\"#arrow-d37d4126b1e44600a51f0a3bde73f6f3-0-7\" class=\"displacy-label\" startOffset=\"50%\" side=\"left\" fill=\"currentColor\" text-anchor=\"middle\">det</textPath>\n",
              "    </text>\n",
              "    <path class=\"displacy-arrowhead\" d=\"M1190,214.0 L1182,202.0 1198,202.0\" fill=\"currentColor\"/>\n",
              "</g>\n",
              "\n",
              "<g class=\"displacy-arrow\">\n",
              "    <path class=\"displacy-arc\" id=\"arrow-d37d4126b1e44600a51f0a3bde73f6f3-0-8\" stroke-width=\"2px\" d=\"M1050,212.0 C1050,72.0 1305.0,72.0 1305.0,212.0\" fill=\"none\" stroke=\"currentColor\"/>\n",
              "    <text dy=\"1.25em\" style=\"font-size: 0.8em; letter-spacing: 1px\">\n",
              "        <textPath xlink:href=\"#arrow-d37d4126b1e44600a51f0a3bde73f6f3-0-8\" class=\"displacy-label\" startOffset=\"50%\" side=\"left\" fill=\"currentColor\" text-anchor=\"middle\">pobj</textPath>\n",
              "    </text>\n",
              "    <path class=\"displacy-arrowhead\" d=\"M1305.0,214.0 L1313.0,202.0 1297.0,202.0\" fill=\"currentColor\"/>\n",
              "</g>\n",
              "</svg>"
            ],
            "text/plain": [
              "<IPython.core.display.HTML object>"
            ]
          },
          "metadata": {
            "tags": []
          }
        }
      ]
    },
    {
      "cell_type": "markdown",
      "metadata": {
        "id": "alHXZOM-IOCb",
        "colab_type": "text"
      },
      "source": [
        "#Visualizing named entities"
      ]
    },
    {
      "cell_type": "code",
      "metadata": {
        "id": "QpcKvUmQGJsn",
        "colab_type": "code",
        "outputId": "037472a5-c699-4a09-d347-2d5b65e47fed",
        "colab": {
          "base_uri": "https://localhost:8080/",
          "height": 51
        }
      },
      "source": [
        "displacy.render(doc, style=\"ent\",jupyter = True,options = {'distance':140})"
      ],
      "execution_count": 20,
      "outputs": [
        {
          "output_type": "display_data",
          "data": {
            "text/html": [
              "<div class=\"entities\" style=\"line-height: 2.5; direction: ltr\">\n",
              "<mark class=\"entity\" style=\"background: #aa9cfc; padding: 0.45em 0.6em; margin: 0 0.25em; line-height: 1; border-radius: 0.35em; box-decoration-break: clone; -webkit-box-decoration-break: clone\">\n",
              "    Harry\n",
              "    <span style=\"font-size: 0.8em; font-weight: bold; line-height: 1; border-radius: 0.35em; text-transform: uppercase; vertical-align: middle; margin-left: 0.5rem\">PERSON</span>\n",
              "</mark>\n",
              " has total right to sew apple for the cheating</div>"
            ],
            "text/plain": [
              "<IPython.core.display.HTML object>"
            ]
          },
          "metadata": {
            "tags": []
          }
        }
      ]
    },
    {
      "cell_type": "markdown",
      "metadata": {
        "id": "SQ5Zz5NyNsPq",
        "colab_type": "text"
      },
      "source": [
        "Here, we'll show you how to create Doc objects.\n",
        "\n",
        "Doc object takes 3 arguments. nlp.vocab, words and spaces(Bool value)"
      ]
    },
    {
      "cell_type": "code",
      "metadata": {
        "id": "GBxKxt3SNsIp",
        "colab_type": "code",
        "colab": {
          "base_uri": "https://localhost:8080/",
          "height": 34
        },
        "outputId": "4a58e98d-be0d-4a60-e2df-f900de142532"
      },
      "source": [
        "# Import the Doc class\n",
        "from spacy.tokens import Doc\n",
        "\n",
        "# Desired text: \"Go, get started!\"\n",
        "words = ['Hello', ',', 'How', 'are', 'you' ,'!']\n",
        "spaces = [False, True, True, True,False, False]\n",
        "\n",
        "# Create a Doc from the words and spaces\n",
        "doc = Doc(nlp.vocab, words=words, spaces=spaces)\n",
        "print(doc.text)"
      ],
      "execution_count": 21,
      "outputs": [
        {
          "output_type": "stream",
          "text": [
            "Hello, How are you!\n"
          ],
          "name": "stdout"
        }
      ]
    },
    {
      "cell_type": "markdown",
      "metadata": {
        "id": "G7p0mtSiNsAd",
        "colab_type": "text"
      },
      "source": [
        "We'll understand one more object span.\n",
        "\n",
        "Span takes 4 arguments. first argument is reference to doc second and third arguments are start point(inclusive) and end point(exclusive) tokens respectively. forth argument is optional and used to label your span object."
      ]
    },
    {
      "cell_type": "code",
      "metadata": {
        "id": "cdDrTKdHNr5s",
        "colab_type": "code",
        "colab": {
          "base_uri": "https://localhost:8080/",
          "height": 34
        },
        "outputId": "1455d6a2-5360-4e27-88c1-7961b032679d"
      },
      "source": [
        "# Import the Doc and Span classes\n",
        "from spacy.tokens import Doc, Span\n",
        "\n",
        "# Create a doc from the words and spaces\n",
        "doc = Doc(nlp.vocab, words=['I', 'am', 'from', 'London', ',','United', 'Kingdom'], spaces=[True, True, True, False, True, True, False])\n",
        "\n",
        "# Create a span for \"David Bowie\" from the doc and assign it the label \"PERSON\"\n",
        "span = Span(doc, 3, 7, label='PERSON')\n",
        "print(span.text, span.label_)"
      ],
      "execution_count": 22,
      "outputs": [
        {
          "output_type": "stream",
          "text": [
            "London, United Kingdom PERSON\n"
          ],
          "name": "stdout"
        }
      ]
    },
    {
      "cell_type": "markdown",
      "metadata": {
        "id": "1pdMxyQ3Nrxo",
        "colab_type": "text"
      },
      "source": [
        "Doc has a property called entity which can be used to store object span.\n",
        "\n",
        "doc.ents takes one argument, span."
      ]
    },
    {
      "cell_type": "code",
      "metadata": {
        "id": "FsjmNH9vNrpz",
        "colab_type": "code",
        "colab": {
          "base_uri": "https://localhost:8080/",
          "height": 34
        },
        "outputId": "b170f4d8-e02a-4ad5-e9a1-988ac2d2f6cc"
      },
      "source": [
        "# Import the Doc and Span classes\n",
        "from spacy.tokens import Doc, Span\n",
        "\n",
        "# Create a doc from the words and spaces\n",
        "doc = Doc(nlp.vocab, words=['I', 'am', 'from', 'London', ',','United', 'Kingdom'], spaces=[True, True, True, False, True, True, False])\n",
        "\n",
        "# Create a span for \"David Bowie\" from the doc and assign it the label \"PERSON\"\n",
        "span = Span(doc, 3, 7, label='PERSON')\n",
        "\n",
        "# Add the span to the doc's entities\n",
        "doc.ents = [span]\n",
        "\n",
        "# Print entities' text and labels\n",
        "print([(ent.text, ent.label_) for ent in doc.ents])\n",
        "\n",
        "\n",
        "# Iterate over the tokens\n",
        "for token in doc:\n",
        "    # Check if the current token is a proper noun\n",
        "    if token.pos_ == 'PROPN':\n",
        "        # Check if the next token is a verb\n",
        "        if doc[token.i + 1].pos_ == 'VERB':\n",
        "            print('Found a verb after a proper noun!')"
      ],
      "execution_count": 23,
      "outputs": [
        {
          "output_type": "stream",
          "text": [
            "[('London, United Kingdom', 'PERSON')]\n"
          ],
          "name": "stdout"
        }
      ]
    },
    {
      "cell_type": "markdown",
      "metadata": {
        "id": "pDyjpzdxNrcI",
        "colab_type": "text"
      },
      "source": [
        "Spacy can be used to find similarity between token-token, doc-token, span-doc, etc.\n",
        "\n",
        "How spacy measure similarities?\n",
        "\n",
        "The similarity is determined using word vectors. Multi-dimensional meaning representations of words. Generated using an algorithm like Word2Vec. by default, it gives cosine similarity, but it can be customized. Doc and Span vectors default to an average of token vectors. it gives a more accurate result with Short phrases than long documents as it contains more irrelevant words.\n",
        "\n",
        "\n",
        "It needs a word vector model to check similarity. spacy has three different size models by size:\n",
        "\n",
        "*   en_core_web_sm (small model)\n",
        "*   en_core_web_md (medium model)\n",
        "*   en_core_web_lg (large model)\n",
        "\n",
        "\n",
        "For our purpose, we'll be using the small one.\n",
        "\n",
        "To convert any doc token to its vector form, you can use vector property on a \n",
        "token of Doc.\n",
        "\n",
        "you can compare doc-doc similarity or token-token similarity using \n",
        "doc.similarity(doc) or token.similarity(token)"
      ]
    },
    {
      "cell_type": "code",
      "metadata": {
        "id": "ssKA56_BNrN6",
        "colab_type": "code",
        "colab": {
          "base_uri": "https://localhost:8080/",
          "height": 406
        },
        "outputId": "7f8d3f1d-4a92-490d-c244-f4625d3ab902"
      },
      "source": [
        "# import spacy.cli\n",
        "# !python -m spacy download en_core_web_lg\n",
        "# !spacy.cli.download('en_core_web_md')\n",
        "\n",
        "# Load the en_core_web_md model\n",
        "nlp = spacy.load('en_core_web_sm')\n",
        "# import en_core_sci_md\n",
        "# nlp = en_core_sci_md.load()\n",
        "\n",
        "# Process a text\n",
        "doc = nlp(\"why am i eating pizza?\")\n",
        "\n",
        "# Get the vector for the token \"bananas\"\n",
        "prnt_vector = doc[3].vector\n",
        "print(prnt_vector)\n",
        "\n",
        "doc1 = nlp(\"Let's have a pizza party tonight.\")\n",
        "doc2 = nlp(\"i will have a burger.\")\n",
        "\n",
        "# Get the similarity of doc1 and doc2\n",
        "similarity = doc1.similarity(doc2)\n",
        "print(similarity)\n",
        "\n",
        "\n",
        "doc = nlp(\"car and cards\")\n",
        "token1, token2 = doc[0], doc[2]\n",
        "\n",
        "# Get the similarity of the tokens \"TV\" and \"books\" \n",
        "similarity = token1.similarity(token2)\n",
        "print(similarity)"
      ],
      "execution_count": 24,
      "outputs": [
        {
          "output_type": "stream",
          "text": [
            "[-0.5838928  -2.1370084  -0.02769181 -0.08865166  0.02538602 -1.8068115\n",
            "  8.920958    0.08726597 -1.2190907  -2.872636   -2.0168803   1.0798023\n",
            "  0.01544001 -1.9018455   0.4573893  -1.4435092   2.0902443   0.1434044\n",
            " -3.0693352   2.0814598   0.5286237  -3.1452076   0.52507913  5.818022\n",
            " -4.6569743  -0.74498695  6.3046036  -0.7623123  -0.19211659  3.837345\n",
            "  1.8241663  -0.61304367  2.2083328  -2.594667    1.7671746  -2.3091698\n",
            "  0.8150312  -0.7948343   0.116624    5.871045    4.9112945  -1.6638976\n",
            " -1.7903962  -0.94224524 -2.2724063  -3.2359116   2.1840324  -2.1792397\n",
            " -3.3966825  -2.2638009   1.6616726  -2.3878088   1.1520045   1.6465685\n",
            "  1.0054997  -1.4016173  -1.8878505  -2.4043303   1.019835   -1.5475055\n",
            "  1.9052529  -0.15786624 -3.5604143  -2.7913537  -2.3911486  -1.6027616\n",
            "  1.4730654   0.68242794 -3.0053346   0.28748536 -0.92508596 -2.283294\n",
            "  0.10451706  2.9885764   4.0413136   3.7486117  -2.351272   -0.4637978\n",
            "  0.59839106  3.4197762   4.7469673  -0.8413911  -1.5675265   0.61967593\n",
            " -1.9077421   2.7851543   2.7363553  -0.28428385 -0.7068299  -1.3211374\n",
            "  1.0980875   0.06310862 -5.1102786   1.6553435  -2.5401046   2.719508  ]\n",
            "0.7435823019122879\n",
            "0.23534302\n"
          ],
          "name": "stdout"
        },
        {
          "output_type": "stream",
          "text": [
            "/usr/lib/python3.6/runpy.py:193: ModelsWarning: [W007] The model you're using has no word vectors loaded, so the result of the Doc.similarity method will be based on the tagger, parser and NER, which may not give useful similarity judgements. This may happen if you're using one of the small models, e.g. `en_core_web_sm`, which don't ship with word vectors and only use context-sensitive tensors. You can always add your own word vectors, or use one of the larger models instead if available.\n",
            "  \"__main__\", mod_spec)\n",
            "/usr/lib/python3.6/runpy.py:193: ModelsWarning: [W007] The model you're using has no word vectors loaded, so the result of the Token.similarity method will be based on the tagger, parser and NER, which may not give useful similarity judgements. This may happen if you're using one of the small models, e.g. `en_core_web_sm`, which don't ship with word vectors and only use context-sensitive tensors. You can always add your own word vectors, or use one of the larger models instead if available.\n",
            "  \"__main__\", mod_spec)\n"
          ],
          "name": "stderr"
        }
      ]
    },
    {
      "cell_type": "code",
      "metadata": {
        "id": "fXhkGzZNN6_a",
        "colab_type": "code",
        "colab": {
          "base_uri": "https://localhost:8080/",
          "height": 87
        },
        "outputId": "d91fcd09-9245-4e26-f33c-263e8e350477"
      },
      "source": [
        " doc = nlp(\"We were playing cricket this evening. We are planing to go to watch world cup.\")\n",
        "\n",
        "span1 = doc[2:6]\n",
        "span2 = doc[8:]\n",
        "\n",
        "# Get the similarity of the spans\n",
        "similarity = span1.similarity(span2)\n",
        "print(similarity)"
      ],
      "execution_count": 25,
      "outputs": [
        {
          "output_type": "stream",
          "text": [
            "0.44422776\n"
          ],
          "name": "stdout"
        },
        {
          "output_type": "stream",
          "text": [
            "/usr/lib/python3.6/runpy.py:193: ModelsWarning: [W007] The model you're using has no word vectors loaded, so the result of the Span.similarity method will be based on the tagger, parser and NER, which may not give useful similarity judgements. This may happen if you're using one of the small models, e.g. `en_core_web_sm`, which don't ship with word vectors and only use context-sensitive tensors. You can always add your own word vectors, or use one of the larger models instead if available.\n",
            "  \"__main__\", mod_spec)\n"
          ],
          "name": "stderr"
        }
      ]
    },
    {
      "cell_type": "markdown",
      "metadata": {
        "id": "0sfjGCfKN9IF",
        "colab_type": "text"
      },
      "source": [
        "A list containing name of all countries."
      ]
    },
    {
      "cell_type": "code",
      "metadata": {
        "id": "LObjBxxgN-rR",
        "colab_type": "code",
        "colab": {}
      },
      "source": [
        "COUNTRIES = ['Afghanistan',\n",
        " 'Åland Islands',\n",
        " 'Albania',\n",
        " 'Algeria',\n",
        " 'American Samoa',\n",
        " 'Andorra',\n",
        " 'Angola',\n",
        " 'Anguilla',\n",
        " 'Antarctica',\n",
        " 'Antigua and Barbuda',\n",
        " 'Argentina',\n",
        " 'Armenia',\n",
        " 'Aruba',\n",
        " 'Australia',\n",
        " 'Austria',\n",
        " 'Azerbaijan',\n",
        " 'Bahamas',\n",
        " 'Bahrain',\n",
        " 'Bangladesh',\n",
        " 'Barbados',\n",
        " 'Belarus',\n",
        " 'Belgium',\n",
        " 'Belize',\n",
        " 'Benin',\n",
        " 'Bermuda',\n",
        " 'Bhutan',\n",
        " 'Bolivia (Plurinational State of)',\n",
        " 'Bonaire, Sint Eustatius and Saba',\n",
        " 'Bosnia and Herzegovina',\n",
        " 'Botswana',\n",
        " 'Bouvet Island',\n",
        " 'Brazil',\n",
        " 'British Indian Ocean Territory',\n",
        " 'United States Minor Outlying Islands',\n",
        " 'Virgin Islands (British)',\n",
        " 'Virgin Islands (U.S.)',\n",
        " 'Brunei Darussalam',\n",
        " 'Bulgaria',\n",
        " 'Burkina Faso',\n",
        " 'Burundi',\n",
        " 'Cambodia',\n",
        " 'Cameroon',\n",
        " 'Canada',\n",
        " 'Cabo Verde',\n",
        " 'Cayman Islands',\n",
        " 'Central African Republic',\n",
        " 'Chad',\n",
        " 'Chile',\n",
        " 'China',\n",
        " 'Christmas Island',\n",
        " 'Cocos (Keeling) Islands',\n",
        " 'Colombia',\n",
        " 'Comoros',\n",
        " 'Congo',\n",
        " 'Congo (Democratic Republic of the)',\n",
        " 'Cook Islands',\n",
        " 'Costa Rica',\n",
        " 'Croatia',\n",
        " 'Cuba',\n",
        " 'Curaçao',\n",
        " 'Cyprus',\n",
        " 'Czech Republic',\n",
        " 'Denmark',\n",
        " 'Djibouti',\n",
        " 'Dominica',\n",
        " 'Dominican Republic',\n",
        " 'Ecuador',\n",
        " 'Egypt',\n",
        " 'El Salvador',\n",
        " 'Equatorial Guinea',\n",
        " 'Eritrea',\n",
        " 'Estonia',\n",
        " 'Ethiopia',\n",
        " 'Falkland Islands (Malvinas)',\n",
        " 'Faroe Islands',\n",
        " 'Fiji',\n",
        " 'Finland',\n",
        " 'France',\n",
        " 'French Guiana',\n",
        " 'French Polynesia',\n",
        " 'French Southern Territories',\n",
        " 'Gabon',\n",
        " 'Gambia',\n",
        " 'Georgia',\n",
        " 'Germany',\n",
        " 'Ghana',\n",
        " 'Gibraltar',\n",
        " 'Greece',\n",
        " 'Greenland',\n",
        " 'Grenada',\n",
        " 'Guadeloupe',\n",
        " 'Guam',\n",
        " 'Guatemala',\n",
        " 'Guernsey',\n",
        " 'Guinea',\n",
        " 'Guinea-Bissau',\n",
        " 'Guyana',\n",
        " 'Haiti',\n",
        " 'Heard Island and McDonald Islands',\n",
        " 'Holy See',\n",
        " 'Honduras',\n",
        " 'Hong Kong',\n",
        " 'Hungary',\n",
        " 'Iceland',\n",
        " 'India',\n",
        " 'Indonesia',\n",
        " \"Côte d'Ivoire\",\n",
        " 'Iran (Islamic Republic of)',\n",
        " 'Iraq',\n",
        " 'Ireland',\n",
        " 'Isle of Man',\n",
        " 'Israel',\n",
        " 'Italy',\n",
        " 'Jamaica',\n",
        " 'Japan',\n",
        " 'Jersey',\n",
        " 'Jordan',\n",
        " 'Kazakhstan',\n",
        " 'Kenya',\n",
        " 'Kiribati',\n",
        " 'Kuwait',\n",
        " 'Kyrgyzstan',\n",
        " \"Lao People's Democratic Republic\",\n",
        " 'Latvia',\n",
        " 'Lebanon',\n",
        " 'Lesotho',\n",
        " 'Liberia',\n",
        " 'Libya',\n",
        " 'Liechtenstein',\n",
        " 'Lithuania',\n",
        " 'Luxembourg',\n",
        " 'Macao',\n",
        " 'Macedonia (the former Yugoslav Republic of)',\n",
        " 'Madagascar',\n",
        " 'Malawi',\n",
        " 'Malaysia',\n",
        " 'Maldives',\n",
        " 'Mali',\n",
        " 'Malta',\n",
        " 'Marshall Islands',\n",
        " 'Martinique',\n",
        " 'Mauritania',\n",
        " 'Mauritius',\n",
        " 'Mayotte',\n",
        " 'Mexico',\n",
        " 'Micronesia (Federated States of)',\n",
        " 'Moldova (Republic of)',\n",
        " 'Monaco',\n",
        " 'Mongolia',\n",
        " 'Montenegro',\n",
        " 'Montserrat',\n",
        " 'Morocco',\n",
        " 'Mozambique',\n",
        " 'Myanmar',\n",
        " 'Namibia',\n",
        " 'Nauru',\n",
        " 'Nepal',\n",
        " 'Netherlands',\n",
        " 'New Caledonia',\n",
        " 'New Zealand',\n",
        " 'Nicaragua',\n",
        " 'Niger',\n",
        " 'Nigeria',\n",
        " 'Niue',\n",
        " 'Norfolk Island',\n",
        " \"Korea (Democratic People's Republic of)\",\n",
        " 'Northern Mariana Islands',\n",
        " 'Norway',\n",
        " 'Oman',\n",
        " 'Pakistan',\n",
        " 'Palau',\n",
        " 'Palestine, State of',\n",
        " 'Panama',\n",
        " 'Papua New Guinea',\n",
        " 'Paraguay',\n",
        " 'Peru',\n",
        " 'Philippines',\n",
        " 'Pitcairn',\n",
        " 'Poland',\n",
        " 'Portugal',\n",
        " 'Puerto Rico',\n",
        " 'Qatar',\n",
        " 'Republic of Kosovo',\n",
        " 'Réunion',\n",
        " 'Romania',\n",
        " 'Russian Federation',\n",
        " 'Rwanda',\n",
        " 'Saint Barthélemy',\n",
        " 'Saint Helena, Ascension and Tristan da Cunha',\n",
        " 'Saint Kitts and Nevis',\n",
        " 'Saint Lucia',\n",
        " 'Saint Martin (French part)',\n",
        " 'Saint Pierre and Miquelon',\n",
        " 'Saint Vincent and the Grenadines',\n",
        " 'Samoa',\n",
        " 'San Marino',\n",
        " 'Sao Tome and Principe',\n",
        " 'Saudi Arabia',\n",
        " 'Senegal',\n",
        " 'Serbia',\n",
        " 'Seychelles',\n",
        " 'Sierra Leone',\n",
        " 'Singapore',\n",
        " 'Sint Maarten (Dutch part)',\n",
        " 'Slovakia',\n",
        " 'Slovenia',\n",
        " 'Solomon Islands',\n",
        " 'Somalia',\n",
        " 'South Africa',\n",
        " 'South Georgia and the South Sandwich Islands',\n",
        " 'Korea (Republic of)',\n",
        " 'South Sudan',\n",
        " 'Spain',\n",
        " 'Sri Lanka',\n",
        " 'Sudan',\n",
        " 'Suriname',\n",
        " 'Svalbard and Jan Mayen',\n",
        " 'Swaziland',\n",
        " 'Sweden',\n",
        " 'Switzerland',\n",
        " 'Syrian Arab Republic',\n",
        " 'Taiwan',\n",
        " 'Tajikistan',\n",
        " 'Tanzania, United Republic of',\n",
        " 'Thailand',\n",
        " 'Timor-Leste',\n",
        " 'Togo',\n",
        " 'Tokelau',\n",
        " 'Tonga',\n",
        " 'Trinidad and Tobago',\n",
        " 'Tunisia',\n",
        " 'Turkey',\n",
        " 'Turkmenistan',\n",
        " 'Turks and Caicos Islands',\n",
        " 'Tuvalu',\n",
        " 'Uganda',\n",
        " 'Ukraine',\n",
        " 'United Arab Emirates',\n",
        " 'United Kingdom of Great Britain and Northern Ireland',\n",
        " 'United States of America',\n",
        " 'Uruguay',\n",
        " 'Uzbekistan',\n",
        " 'Vanuatu',\n",
        " 'Venezuela (Bolivarian Republic of)',\n",
        " 'Viet Nam',\n",
        " 'Wallis and Futuna',\n",
        " 'Western Sahara',\n",
        " 'Yemen',\n",
        " 'Zambia',\n",
        " 'Zimbabwe']\n",
        "\n",
        "doc = 'Czech Republic may help Slovakia protect its airspace'"
      ],
      "execution_count": 0,
      "outputs": []
    },
    {
      "cell_type": "markdown",
      "metadata": {
        "id": "BkWBEHzmOBQq",
        "colab_type": "text"
      },
      "source": [
        "PhraseMatcher function can be used to match phrases in two Docs."
      ]
    },
    {
      "cell_type": "code",
      "metadata": {
        "id": "UdaFMK8BOCFe",
        "colab_type": "code",
        "colab": {
          "base_uri": "https://localhost:8080/",
          "height": 34
        },
        "outputId": "2ef99572-705d-4418-f8c4-4c4f28cbdc3d"
      },
      "source": [
        "from spacy.matcher import PhraseMatcher\n",
        "matcher = PhraseMatcher(nlp.vocab)\n",
        "doc = nlp(doc)\n",
        "\n",
        "tt = [nlp(i) for i in COUNTRIES]\n",
        "matcher.add('COUNTRY', None, *tt)\n",
        "\n",
        "matches = matcher(doc)\n",
        "\n",
        "print([doc[start:end] for match_id, start, end in matches])"
      ],
      "execution_count": 27,
      "outputs": [
        {
          "output_type": "stream",
          "text": [
            "[Czech Republic, Slovakia]\n"
          ],
          "name": "stdout"
        }
      ]
    },
    {
      "cell_type": "code",
      "metadata": {
        "id": "hGrHPfj4OE1f",
        "colab_type": "code",
        "colab": {
          "base_uri": "https://localhost:8080/",
          "height": 34
        },
        "outputId": "822d8b3c-4527-49ae-d83e-159040e916fb"
      },
      "source": [
        "file = open(\"test.txt\" ,'r')\n",
        "text = file.read()\n",
        "\n",
        "# text = \"After the Cold War, the UN saw a radical expansion in its peacekeeping duties, taking on more missions in ten years than it had in the previous four decades.Between 1988 and 2000, the number of adopted Security Council resolutions more than doubled, and the peacekeeping budget increased more than tenfold. The UN negotiated an end to the Salvadoran Civil War, launched a successful peacekeeping mission in Namibia, and oversaw democratic elections in post-apartheid South Africa and post-Khmer Rouge Cambodia. In 1991, the UN authorized a US-led coalition that repulsed the Iraqi invasion of Kuwait. Brian Urquhart, Under-Secretary-General from 1971 to 1985, later described the hopes raised by these successes as a false renaissance for the organization, given the more troubled missions that followed. Though the UN Charter had been written primarily to prevent aggression by one nation against another, in the early 1990s the UN faced a number of simultaneous, serious crises within nations such as Somalia, Haiti, Mozambique, and the former Yugoslavia. The UN mission in Somalia was widely viewed as a failure after the US withdrawal following casualties in the Battle of Mogadishu, and the UN mission to Bosnia faced worldwide ridicule for its indecisive and confused mission in the face of ethnic cleansing. In 1994, the UN Assistance Mission for Rwanda failed to intervene in the Rwandan genocide amid indecision in the Security Council. Beginning in the last decades of the Cold War, American and European critics of the UN condemned the organization for perceived mismanagement and corruption. In 1984, the US President, Ronald Reagan, withdrew his nation\\'s funding from UNESCO (the United Nations Educational, Scientific and Cultural Organization, founded 1946) over allegations of mismanagement, followed by Britain and Singapore. Boutros Boutros-Ghali, Secretary-General from 1992 to 1996, initiated a reform of the Secretariat, reducing the size of the organization somewhat. His successor, Kofi Annan (1997–2006), initiated further management reforms in the face of threats from the United States to withhold its UN dues. In the late 1990s and 2000s, international interventions authorized by the UN took a wider variety of forms. The UN mission in the Sierra Leone Civil War of 1991–2002 was supplemented by British Royal Marines, and the invasion of Afghanistan in 2001 was overseen by NATO. In 2003, the United States invaded Iraq despite failing to pass a UN Security Council resolution for authorization, prompting a new round of questioning of the organization\\'s effectiveness. Under the eighth Secretary-General, Ban Ki-moon, the UN has intervened with peacekeepers in crises including the War in Darfur in Sudan and the Kivu conflict in the Democratic Republic of Congo and sent observers and chemical weapons inspectors to the Syrian Civil War. In 2013, an internal review of UN actions in the final battles of the Sri Lankan Civil War in 2009 concluded that the organization had suffered systemic failure. One hundred and one UN personnel died in the 2010 Haiti earthquake, the worst loss of life in the organization\\'s history. The Millennium Summit was held in 2000 to discuss the UN\\'s role in the 21st century. The three day meeting was the largest gathering of world leaders in history, and culminated in the adoption by all member states of the Millennium Development Goals (MDGs), a commitment to achieve international development in areas such as poverty reduction, gender equality, and public health. Progress towards these goals, which were to be met by 2015, was ultimately uneven. The 2005 World Summit reaffirmed the UN\\'s focus on promoting development, peacekeeping, human rights, and global security. The Sustainable Development Goals were launched in 2015 to succeed the Millennium Development Goals. In addition to addressing global challenges, the UN has sought to improve its accountability and democratic legitimacy by engaging more with civil society and fostering a global constituency. In an effort to enhance transparency, in 2016 the organization held its first public debate between candidates for Secretary-General. On 1 January 2017, Portuguese diplomat António Guterres, who previously served as UN High Commissioner for Refugees, became the ninth Secretary-General. Guterres has highlighted several key goals for his administration, including an emphasis on diplomacy for preventing conflicts, more effective peacekeeping efforts, and streamlining the organization to be more responsive and versatile to global needs.\"\n",
        "print(len(text))\n",
        "file.close()"
      ],
      "execution_count": 32,
      "outputs": [
        {
          "output_type": "stream",
          "text": [
            "164189\n"
          ],
          "name": "stdout"
        }
      ]
    },
    {
      "cell_type": "markdown",
      "metadata": {
        "id": "0KMELjg8OFnu",
        "colab_type": "text"
      },
      "source": [
        "All the country name that is used in \"text\" variable is printed.\n",
        "\n",
        "Although the size of the text file is too big. The program runs quite smoothly."
      ]
    },
    {
      "cell_type": "code",
      "metadata": {
        "id": "DZLVn6CzOIRJ",
        "colab_type": "code",
        "colab": {
          "base_uri": "https://localhost:8080/",
          "height": 54
        },
        "outputId": "6e4f8d65-6bcc-479d-a8ad-1a5032f18511"
      },
      "source": [
        "# Create a doc and find matches in it\n",
        "doc = nlp(text)\n",
        "\n",
        "matcher = PhraseMatcher(nlp.vocab)\n",
        "matcher.add('COUNTRY', None, *([nlp(i) for i in COUNTRIES]))\n",
        "for match_id, start, end in matcher(doc):\n",
        "    # Create a Span with the label for \"GPE\" and overwrite the doc.ents\n",
        "    span = Span(doc, start, end, label='GPE')\n",
        "    # Get the span's root head token\n",
        "    # Print the text of the span root's head token and the span text\n",
        "print([(ent.text, ent.label_) for ent in doc.ents if ent.label_ == 'GPE'])"
      ],
      "execution_count": 33,
      "outputs": [
        {
          "output_type": "stream",
          "text": [
            "[('China', 'GPE'), ('North Africa', 'GPE'), ('Australia', 'GPE'), ('Germany', 'GPE'), ('Japan', 'GPE'), ('the Italian Republic', 'GPE'), ('the United States', 'GPE'), ('the Soviet Union', 'GPE'), ('United States', 'GPE'), ('United Kingdom', 'GPE'), ('China', 'GPE'), ('Germany', 'GPE'), ('Japan', 'GPE'), ('the Soviet Union', 'GPE'), ('China', 'GPE'), ('Japan', 'GPE'), ('China', 'GPE'), ('Poland', 'GPE'), ('Germany', 'GPE'), ('Germany', 'GPE'), ('France', 'GPE'), ('the United Kingdom', 'GPE'), ('Germany', 'GPE'), ('Italy', 'GPE'), ('Japan', 'GPE'), ('Germany', 'GPE'), ('the Soviet Union', 'GPE'), ('Poland', 'GPE'), ('Finland', 'GPE'), ('Romania', 'GPE'), ('North Africa', 'GPE'), ('East Africa', 'GPE'), ('France', 'GPE'), ('the British Empire', 'GPE'), ('Battle', 'GPE'), ('Britain', 'GPE'), ('the Soviet Union', 'GPE'), ('Japan', 'GPE'), ('the United States', 'GPE'), ('U.S.', 'GPE'), ('Japan', 'GPE'), ('Great Britain', 'GPE'), ('U.S.', 'GPE'), ('Japan', 'GPE'), ('Germany', 'GPE'), ('Italy', 'GPE'), ('North Africa', 'GPE'), ('Stalingrad', 'GPE'), ('the Soviet Union', 'GPE'), ('Sicily', 'GPE'), ('Italy', 'GPE'), ('France', 'GPE'), ('the Soviet Union', 'GPE'), ('Germany', 'GPE'), ('Burma', 'GPE'), ('Germany', 'GPE'), ('the Soviet Union', 'GPE'), ('Berlin', 'GPE'), ('Japan', 'GPE'), ('the United States', 'GPE'), ('Hiroshima', 'GPE'), ('Nagasaki', 'GPE'), ('Japan', 'GPE'), ('Manchuria', 'GPE'), ('Japan', 'GPE'), ('China', 'GPE'), ('France', 'GPE'), ('the Soviet Union', 'GPE'), ('the United Kingdom', 'GPE'), ('the United States', 'GPE'), ('The Soviet Union', 'GPE'), ('United States', 'GPE'), ('Ethiopia', 'GPE'), ('China', 'GPE'), ('the Soviet Union', 'GPE'), ('United Kingdom', 'GPE'), ('Poland', 'GPE'), ('the United Kingdom', 'GPE'), ('France', 'GPE'), ('Germany', 'GPE'), ('Manchuria', 'GPE'), ('Abyssinia', 'GPE'), ('Japan', 'GPE'), ('Mongolia', 'GPE'), ('the Soviet Union', 'GPE'), ('Japan', 'GPE'), ('Japan', 'GPE'), ('Germany', 'GPE'), ('West Germany', 'GPE'), ('Japan', 'GPE'), ('the Soviet Union', 'GPE'), ('Austria', 'GPE'), ('Hungary', 'GPE'), ('Germany', 'GPE'), ('Bulgaria', 'GPE'), ('the Ottoman Empire—', 'GPE'), ('Russia', 'GPE'), ('the Soviet Union', 'GPE'), ('France', 'GPE'), ('Belgium', 'GPE'), ('Italy', 'GPE'), ('Romania', 'GPE'), ('Greece', 'GPE'), ('Austria', 'GPE'), ('Hungary', 'GPE'), ('Geneva', 'GPE'), ('Switzerland', 'GPE'), ('Germany', 'GPE'), ('Germany', 'GPE'), ('the Weimar Republic', 'GPE'), ('Italy', 'GPE'), ('the United Kingdom', 'GPE'), ('France', 'GPE'), ('Italy', 'GPE'), ('Italy', 'GPE'), ('Nuremberg', 'GPE'), ('Germany', 'GPE'), ('France', 'GPE'), ('Italy', 'GPE'), ('Ethiopia', 'GPE'), ('Italy', 'GPE'), ('Germany', 'GPE'), ('The United Kingdom', 'GPE'), ('France', 'GPE'), ('Italy', 'GPE'), ('Germany', 'GPE'), ('the United Kingdom', 'GPE'), ('Germany', 'GPE'), ('The Soviet Union', 'GPE'), ('Germany', 'GPE'), ('France', 'GPE'), ('The United States', 'GPE'), ('Germany', 'GPE'), ('Italy', 'GPE'), ('Rome', 'GPE'), ('Germany', 'GPE'), ('Japan', 'GPE'), ('Italy', 'GPE'), ('China', 'GPE'), ('China', 'GPE'), ('Japan', 'GPE'), ('China[23', 'GPE'), ('Manchuria', 'GPE'), ('Manchukuo.[24', 'GPE'), ('China', 'GPE'), ('Manchuria', 'GPE'), ('Japan', 'GPE'), ('Manchuria', 'GPE'), ('Shanghai', 'GPE'), ('Rehe', 'GPE'), ('Hebei', 'GPE'), ('Manchuria', 'GPE'), ('Ethiopia', 'GPE'), ('the Ethiopian Empire', 'GPE'), ('Abyssinia', 'GPE'), ('the Kingdom of Italy', 'GPE'), ('Somaliland', 'GPE'), ('Ethiopia', 'GPE'), ('East Africa', 'GPE'), ('Italy', 'GPE'), ('Ethiopia', 'GPE'), ('The United Kingdom', 'GPE'), ('France', 'GPE'), ('Italy', 'GPE'), ('Italy', 'GPE'), ('Germany', 'GPE'), ('Guernica', 'GPE'), ('Spain', 'GPE'), ('Italy', 'GPE'), ('Spain', 'GPE'), ('The Soviet Union', 'GPE'), ('the Spanish Republic', 'GPE'), ('Germany', 'GPE'), ('the Soviet Union', 'GPE'), ('Germany', 'GPE'), ('China', 'GPE'), ('Japan', 'GPE'), ('Peking', 'GPE'), ('China', 'GPE'), ('China', 'GPE'), ('Germany', 'GPE'), ('Taiyuan', 'GPE'), ('Xinkou,[35', 'GPE'), ('Shanghai', 'GPE'), ('Shanghai', 'GPE'), ('Nanking', 'GPE'), ('Nanking', 'GPE'), ('Taierzhuang', 'GPE'), ('Xuzhou', 'GPE'), ('Wuhan', 'GPE'), ('Japan', 'GPE'), ('Chongqing', 'GPE'), ('Manchukuo', 'GPE'), ('the Soviet Union', 'GPE'), ('Mongolia', 'GPE'), ('Japan', 'GPE'), ('Germany', 'GPE'), ('Japan', 'GPE'), ('the Soviet Union', 'GPE'), ('Japan', 'GPE'), ('the United States', 'GPE'), ('Germany', 'GPE'), ('Italy', 'GPE'), ('Germany', 'GPE'), ('Austria', 'GPE'), ('Sudetenland', 'GPE'), ('Czechoslovakia', 'GPE'), ('the United Kingdom', 'GPE'), ('France', 'GPE'), ('Germany', 'GPE'), ('the Munich Agreement', 'GPE'), ('Germany', 'GPE'), ('Italy', 'GPE'), ('Czechoslovakia', 'GPE'), ('Hungary', 'GPE'), ('Poland', 'GPE'), ('Czechoslovakia', 'GPE'), ('Germany', 'GPE'), ('Czechoslovakia', 'GPE'), ('Germany', 'GPE'), ('Czechoslovakia', 'GPE'), ('Lithuania', 'GPE'), ('the Free City', 'GPE'), ('Danzig', 'GPE'), ('the United Kingdom', 'GPE'), ('France', 'GPE'), ('Italy', 'GPE'), ('Albania', 'GPE'), ('Romania', 'GPE'), ('Greece.[52', 'GPE'), ('Poland', 'GPE'), ('Germany', 'GPE'), ('Italy', 'GPE'), ('the United Kingdom', 'GPE'), ('Poland', 'GPE'), ('Germany', 'GPE'), ('France', 'GPE'), ('the United Kingdom', 'GPE'), ('Soviet Union', 'GPE'), ('the Soviet Union', 'GPE'), ('Poland', 'GPE'), ('Lithuania', 'GPE'), ('Germany', 'GPE'), ('Poland', 'GPE'), ('Finland', 'GPE'), ('Estonia', 'GPE'), ('Latvia', 'GPE'), ('Bessarabia', 'GPE'), ('the Soviet Union', 'GPE'), ('Poland', 'GPE'), ('Germany', 'GPE'), ('the United Kingdom', 'GPE'), ('Poland', 'GPE'), ('Italy', 'GPE'), ('Germany', 'GPE'), ('Poland', 'GPE'), ('Berlin', 'GPE'), ('Danzig', 'GPE'), ('Ribbentrop', 'GPE'), ('Germany', 'GPE'), ('Poland', 'GPE'), ('Germany', 'GPE'), ('Poland', 'GPE'), ('The United Kingdom', 'GPE'), ('Germany', 'GPE'), ('France', 'GPE'), ('Britain', 'GPE'), ('Germany', 'GPE'), ('Australia', 'GPE'), ('New Zealand', 'GPE'), ('South Africa', 'GPE'), ('Canada', 'GPE'), ('Poland', 'GPE'), ('Germany', 'GPE'), ('Germany', 'GPE'), ('Poland', 'GPE'), ('Warsaw', 'GPE'), ('Warsaw', 'GPE'), ('Japan', 'GPE'), ('Warsaw', 'GPE'), ('Poland', 'GPE'), ('Romania', 'GPE'), ('Poland', 'GPE'), ('the Soviet Union', 'GPE'), ('Lithuania', 'GPE'), ('Slovakia', 'GPE'), ('the United Kingdom', 'GPE'), ('France', 'GPE'), ('Poland', 'GPE'), ('Germany', 'GPE'), ('the Soviet Union', 'GPE'), ('The Soviet Union', 'GPE'), ('Estonia', 'GPE'), ('Latvia', 'GPE'), ('Lithuania', 'GPE'), ('Finland', 'GPE'), ('the Soviet Union', 'GPE'), ('The Soviet Union', 'GPE'), ('Finland', 'GPE'), ('the Soviet Union', 'GPE'), ('the Soviet Union', 'GPE'), ('Estonia', 'GPE'), ('Latvia', 'GPE'), ('Lithuania,[75', 'GPE'), ('Bessarabia', 'GPE'), ('Northern Bukovina', 'GPE'), ('Hertza', 'GPE'), ('Belgium', 'GPE'), ('Northern France', 'GPE'), ('Germany', 'GPE'), ('Denmark', 'GPE'), ('Norway', 'GPE'), ('Sweden', 'GPE'), ('Norway', 'GPE'), ('Germany', 'GPE'), ('France', 'GPE'), ('Germany', 'GPE'), ('Belgium', 'GPE'), ('Netherlands', 'GPE'), ('Belgium', 'GPE'), ('Lille', 'GPE'), ('The United Kingdom', 'GPE'), ('Italy', 'GPE'), ('France', 'GPE'), ('France', 'GPE'), ('Paris', 'GPE'), ('France', 'GPE'), ('Germany', 'GPE'), ('Germany', 'GPE'), ('France', 'GPE'), ('United Kingdom', 'GPE'), ('London', 'GPE'), (\"St. Paul's\", 'GPE'), ('The United Kingdom', 'GPE'), ('Britain', 'GPE'), ('London', 'GPE'), ('the United States', 'GPE'), ('China', 'GPE'), ('Paris', 'GPE'), ('United States', 'GPE'), ('the United States', 'GPE'), ('The United States', 'GPE'), ('Japan', 'GPE'), ('Italy', 'GPE'), ('Germany', 'GPE'), ('the Soviet Union', 'GPE'), ('Hungary', 'GPE'), ('Slovakia', 'GPE'), ('Romania', 'GPE'), ('Romania', 'GPE'), ('Hungary', 'GPE'), ('the Soviet Union', 'GPE'), ('Romania', 'GPE'), ('Italy', 'GPE'), ('Egypt', 'GPE'), ('Italy', 'GPE'), ('Greece', 'GPE'), ('Germany', 'GPE'), ('Italy', 'GPE'), ('Egypt', 'GPE'), ('Italy', 'GPE'), ('Libya', 'GPE'), ('Taranto', 'GPE'), ('Germany', 'GPE'), ('North Africa', 'GPE'), ('Egypt', 'GPE'), ('Bulgaria', 'GPE'), ('Yugoslavia', 'GPE'), ('Germany', 'GPE'), ('Yugoslavia', 'GPE'), ('Greece', 'GPE'), ('Balkans.[116', 'GPE'), ('Axis', 'GPE'), ('Yugoslavia', 'GPE'), ('Iraq', 'GPE'), ('Vichy', 'GPE'), ('Syria', 'GPE'), ('Lebanon', 'GPE'), ('the Soviet Union', 'GPE'), ('Soviet Union', 'GPE'), ('Soviet Union', 'GPE'), ('Germany', 'GPE'), ('Japan', 'GPE'), ('the Soviet Union', 'GPE'), ('Germany', 'GPE'), ('the Soviet Union', 'GPE'), (\"the United Kingdom's\", 'GPE'), ('the United States', 'GPE'), ('the Soviet Union', 'GPE'), ('Germany', 'GPE'), ('Germany', 'GPE'), ('the Soviet Union', 'GPE'), ('Finland', 'GPE'), ('Bulgaria', 'GPE'), ('Turkey', 'GPE'), ('Japan', 'GPE'), ('Germany', 'GPE'), ('the Soviet Union', 'GPE'), ('Germany', 'GPE'), ('Italy', 'GPE'), ('Romania', 'GPE'), ('the Soviet Union', 'GPE'), ('Germany', 'GPE'), ('Finland', 'GPE'), ('Moscow', 'GPE'), ('Ukraine', 'GPE'), ('the Soviet Union', 'GPE'), ('Germany', 'GPE'), ('Ukraine', 'GPE'), ('France', 'GPE'), ('the United Kingdom', 'GPE'), ('UK', 'GPE'), ('the Soviet Union', 'GPE'), ('Iran', 'GPE'), ('Iran', 'GPE'), ('the United Kingdom', 'GPE'), ('the United States', 'GPE'), ('Ukraine', 'GPE'), ('Moscow', 'GPE'), ('Moscow', 'GPE'), ('the Soviet Union', 'GPE'), ('the United States', 'GPE'), ('Japan', 'GPE'), ('Japan', 'GPE'), ('Japan', 'GPE'), ('China', 'GPE'), ('Japan', 'GPE'), ('China', 'GPE'), ('Japan', 'GPE'), ('the United States', 'GPE'), ('Japan', 'GPE'), ('Japan', 'GPE'), ('Changsha', 'GPE'), ('Japan', 'GPE'), ('Japan', 'GPE'), ('Japan', 'GPE'), ('Indochina', 'GPE'), ('The United States', 'GPE'), ('United Kingdom', 'GPE'), ('Japan', 'GPE'), ('the United States', 'GPE'), ('Japan', 'GPE'), ('China', 'GPE'), ('Japan', 'GPE'), ('the United States', 'GPE'), ('the United Kingdom', 'GPE'), ('Netherlands', 'GPE'), ('Philippines', 'GPE'), ('Japan', 'GPE'), ('the United States', 'GPE'), ('Japan', 'GPE'), ('China', 'GPE'), ('Japan', 'GPE'), ('Japan', 'GPE'), ('Japan', 'GPE'), ('China', 'GPE'), ('Japan', 'GPE'), ('China', 'GPE'), ('Japan', 'GPE'), ('Philippines', 'GPE'), ('Japan', 'GPE'), ('Philippines', 'GPE'), ('Thailand', 'GPE'), ('Hong Kong.[167', 'GPE'), ('the United States', 'GPE'), ('United Kingdom', 'GPE'), ('China', 'GPE'), ('Australia', 'GPE'), ('Japan', 'GPE'), ('the Soviet Union', 'GPE'), ('Germany', 'GPE'), ('Japan', 'GPE'), ('Roosevelt.[124][170', 'GPE'), ('US', 'GPE'), ('China', 'GPE'), ('the United Kingdom', 'GPE'), ('the United States', 'GPE'), ('Germany', 'GPE'), ('Germany', 'GPE'), ('France', 'GPE'), ('Germany', 'GPE'), ('Germany', 'GPE'), ('France', 'GPE'), ('North Africa.[175', 'GPE'), ('Sicily', 'GPE'), ('Turkey', 'GPE'), ('France', 'GPE'), ('Japan', 'GPE'), ('Thailand', 'GPE'), ('Burma', 'GPE'), ('Singapore', 'GPE'), ('US', 'GPE'), ('the Philippine Commonwealth', 'GPE'), ('Burma', 'GPE'), ('Darwin', 'GPE'), ('Australia', 'GPE'), ('Japan', 'GPE'), ('US', 'GPE'), ('Japan', 'GPE'), ('Japan', 'GPE'), ('the United States', 'GPE'), ('Australia', 'GPE'), ('Japan', 'GPE'), ('Japan', 'GPE'), ('the Aleutian Islands', 'GPE'), ('Alaska.[185', 'GPE'), ('Japan', 'GPE'), ('China', 'GPE'), ('Japan', 'GPE'), ('Midway', 'GPE'), ('Midway', 'GPE'), ('Japan', 'GPE'), ('New Guinea', 'GPE'), ('Port Moresby', 'GPE'), ('United States', 'GPE'), ('Burma', 'GPE'), ('India', 'GPE'), ('Germany', 'GPE'), ('Russia', 'GPE'), ('Russia', 'GPE'), ('Stalingrad', 'GPE'), ('Stalingrad', 'GPE'), ('Moscow', 'GPE'), ('Stalingrad', 'GPE'), ('Kursk.[201', 'GPE'), ('Germany', 'GPE'), ('North Africa', 'GPE'), ('North Africa', 'GPE'), ('Germany', 'GPE'), ('Vichy', 'GPE'), ('Madagascar', 'GPE'), ('Libya', 'GPE'), ('Egypt', 'GPE'), ('Axis', 'GPE'), ('Egypt', 'GPE'), ('North Africa', 'GPE'), ('Allies.[213', 'GPE'), ('Vichy', 'GPE'), ('Vichy', 'GPE'), ('Tunisia', 'GPE'), ('Germany', 'GPE'), ('Hamburg', 'GPE'), ('Marshall Islands', 'GPE'), ('Japan', 'GPE'), ('US', 'GPE'), ('the United States', 'GPE'), ('New Zealand', 'GPE'), ('the Caroline Islands', 'GPE'), ('the Soviet Union', 'GPE'), ('Russia', 'GPE'), ('Germany', 'GPE'), ('Kursk', 'GPE'), ('the Soviet Union', 'GPE'), ('Wotan', 'GPE'), ('Smolensk', 'GPE'), ('Italy', 'GPE'), ('Germany', 'GPE'), ('Italy', 'GPE'), ('Cairo', 'GPE'), ('Tehran.[234', 'GPE'), ('the Soviet Union', 'GPE'), ('Japan', 'GPE'), ('Germany', 'GPE'), ('Benedictine', 'GPE'), ('Changde', 'GPE'), ('Japan', 'GPE'), ('Italy', 'GPE'), ('Leningrad', 'GPE'), ('Ukraine', 'GPE'), ('Romania', 'GPE'), ('Italy', 'GPE'), ('Rome', 'GPE'), ('Assam', 'GPE'), ('Kohima.[247', 'GPE'), ('Burma', 'GPE'), ('July,[247', 'GPE'), ('Burma', 'GPE'), ('China', 'GPE'), ('China', 'GPE'), ('Henan', 'GPE'), ('Changsha', 'GPE'), ('Hunan', 'GPE'), ('Omaha Beach', 'GPE'), ('France', 'GPE'), ('Italy', 'GPE'), ('France', 'GPE'), ('Paris', 'GPE'), ('Germany', 'GPE'), ('Netherlands', 'GPE'), ('Germany', 'GPE'), ('Italy', 'GPE'), ('the Dirlewanger Brigade', 'GPE'), ('Belarus', 'GPE'), ('Poland', 'GPE'), ('Slovakia', 'GPE'), ('Romania', 'GPE'), ('Romania', 'GPE'), ('Bulgaria', 'GPE'), ('Yugoslavia', 'GPE'), ('Greece', 'GPE'), ('Albania', 'GPE'), ('Yugoslavia', 'GPE'), ('Yugoslavia', 'GPE'), ('Serbia', 'GPE'), ('Belgrade', 'GPE'), ('Hungary', 'GPE'), ('Budapest', 'GPE'), ('Finland', 'GPE'), ('Finland', 'GPE'), ('Philippines', 'GPE'), ('Leyte', 'GPE'), ('Assam', 'GPE'), ('Myitkyina', 'GPE'), ('China', 'GPE'), ('Hengyang', 'GPE'), ('Guangxi', 'GPE'), ('Guilin', 'GPE'), ('Liuzhou', 'GPE'), ('China', 'GPE'), ('Indochina', 'GPE'), ('US', 'GPE'), ('Mariana', 'GPE'), ('Palau', 'GPE'), ('the United States', 'GPE'), ('Leyte', 'GPE'), ('Germany', 'GPE'), ('Antwerp', 'GPE'), ('Italy', 'GPE'), ('Poland', 'GPE'), ('Germany', 'GPE'), ('US', 'GPE'), ('Germany', 'GPE'), ('the Soviet Union', 'GPE'), ('Silesia', 'GPE'), ('Pomerania', 'GPE'), ('Germany', 'GPE'), ('Ruhr', 'GPE'), ('Hungary', 'GPE'), ('Budapest', 'GPE'), ('Germany', 'GPE'), ('Vienna', 'GPE'), ('Italy', 'GPE'), ('Germany', 'GPE'), ('Hamburg', 'GPE'), ('Nuremberg', 'GPE'), ('Germany', 'GPE'), ('Berlin', 'GPE'), ('Berlin', 'GPE'), ('Italy', 'GPE'), ('Berlin', 'GPE'), ('Berlin', 'GPE'), ('Prague', 'GPE'), ('Philippines', 'GPE'), ('Manila', 'GPE'), ('Philippines', 'GPE'), ('Japan', 'GPE'), ('Tokyo', 'GPE'), ('Borneo', 'GPE'), ('Burma', 'GPE'), ('West Hunan', 'GPE'), ('Japan', 'GPE'), ('Japan', 'GPE'), ('Potsdam', 'GPE'), ('Germany', 'GPE'), ('Japan', 'GPE'), ('Japan', 'GPE'), ('the United Kingdom', 'GPE'), ('the United States', 'GPE'), ('Hiroshima', 'GPE'), ('Nagasaki', 'GPE'), ('Yalta', 'GPE'), ('Manchuria', 'GPE'), ('Sakhalin Island', 'GPE'), ('Japan', 'GPE'), ('Warsaw', 'GPE'), ('Austria', 'GPE'), ('Germany', 'GPE'), ('the Soviet Union', 'GPE'), ('Germany', 'GPE'), ('Nuremberg', 'GPE'), ('Germany', 'GPE'), ('Neumark', 'GPE'), ('Pomerania', 'GPE'), ('Poland', 'GPE'), ('the Soviet Union', 'GPE'), ('Germany', 'GPE'), ('Sudetenland', 'GPE'), ('Czechoslovakia', 'GPE'), ('The Soviet Union', 'GPE'), ('Nuremberg', 'GPE'), ('Germany', 'GPE'), ('France', 'GPE'), ('China', 'GPE'), ('the United Kingdom', 'GPE'), ('the Soviet Union', 'GPE'), ('the United States', 'GPE'), ('the Republic of China', 'GPE'), (\"the People's Republic of China\", 'GPE'), ('the Soviet Union', 'GPE'), ('the Russian Federation', 'GPE'), ('the Soviet Union', 'GPE'), ('the Soviet Union', 'GPE'), ('Germany', 'GPE'), ('the Federal Republic of Germany', 'GPE'), ('East Germany,[308', 'GPE'), ('Poland', 'GPE'), ('Hungary', 'GPE'), ('Romania', 'GPE'), ('Czechoslovakia', 'GPE'), ('Yugoslavia', 'GPE'), ('the United States', 'GPE'), ('Warsaw', 'GPE'), ('the United States', 'GPE'), ('Japan', 'GPE'), ('Japan', 'GPE'), ('Korea', 'GPE'), ('the Soviet Union', 'GPE'), ('the United States', 'GPE'), ('Korea', 'GPE'), ('China', 'GPE'), (\"the People's Republic of China\", 'GPE'), ('Taiwan', 'GPE'), ('Israel', 'GPE'), ('The United States', 'GPE'), ('UK', 'GPE'), ('US', 'GPE'), ('Western Germany', 'GPE'), ('Western Germany', 'GPE'), ('Italy', 'GPE'), ('the United Kingdom', 'GPE'), ('The Soviet Union', 'GPE'), ('Japan', 'GPE'), ('China', 'GPE'), ('The Soviet Union', 'GPE'), ('the Soviet Union', 'GPE'), ('Germany', 'GPE'), ('Germany.[340', 'GPE'), ('Roma', 'GPE'), ('Volhynia', 'GPE'), ('Heipei', 'GPE'), ('Shantung.[353', 'GPE'), ('China', 'GPE'), ('The Soviet Union', 'GPE'), ('Katyn', 'GPE'), ('Poland', 'GPE'), ('Germany', 'GPE'), ('Germany', 'GPE'), ('Germany', 'GPE'), ('Poland', 'GPE'), ('the Soviet Union', 'GPE'), ('UK', 'GPE'), ('Netherlands', 'GPE'), ('the United States', 'GPE'), ('Japan', 'GPE'), ('China', 'GPE'), ('Manchukuo', 'GPE'), ('Kōain', 'GPE'), ('Palmiry', 'GPE'), ('France', 'GPE'), ('Norway', 'GPE'), ('Denmark', 'GPE'), ('Czechoslovakia', 'GPE'), ('Germany', 'GPE'), ('Germany', 'GPE'), ('the Soviet Union', 'GPE'), ('Soviet Union', 'GPE'), ('Japan', 'GPE'), ('Japan', 'GPE'), ('United Kingdom', 'GPE'), ('France', 'GPE'), ('Poland', 'GPE'), ('Germany', 'GPE'), ('Italy', 'GPE'), ('China', 'GPE'), ('Japan', 'GPE'), ('The United States', 'GPE'), ('Germany', 'GPE'), ('Japan', 'GPE'), ('the United States', 'GPE'), ('Soviet Union', 'GPE'), ('Germany', 'GPE'), ('Japan', 'GPE'), ('Germany', 'GPE'), ('Germany', 'GPE'), ('Japan', 'GPE'), ('Germany', 'GPE'), ('Japan', 'GPE'), ('Germany', 'GPE'), ('Japan', 'GPE'), ('Wichita', 'GPE'), ('Kansas', 'GPE'), ('Taranto', 'GPE'), ('Pearl Harbor', 'GPE'), ('Germany', 'GPE'), ('Peenemünde', 'GPE'), ('Germany', 'GPE'), ('Poland', 'GPE'), ('New Mexico', 'GPE'), ('the United Kingdom', 'GPE'), ('Japan', 'GPE'), ('China', 'GPE'), ('China', 'GPE'), ('Italy', 'GPE'), ('Germany', 'GPE'), ('Italy', 'GPE'), ('Wernar', 'GPE'), ('Japan', 'GPE'), ('Yisreelit', 'GPE'), ('Germany', 'GPE'), ('Japan', 'GPE'), ('Russia', 'GPE'), ('Diplomat', 'GPE'), ('Poland', 'GPE'), ('Danzig', 'GPE'), ('Poland', 'GPE'), ('Germany', 'GPE'), ('Poland', 'GPE'), ('Wilhelmshafen', 'GPE'), ('Germany', 'GPE'), ('France', 'GPE'), ('Autumn', 'GPE'), ('L Deighton', 'GPE'), ('Portland', 'GPE'), ('Britain', 'GPE'), ('Washington', 'GPE'), ('London', 'GPE'), ('Japan', 'GPE'), ('Russia', 'GPE'), ('The United States', 'GPE'), ('Japan', 'GPE'), ('U.S.', 'GPE'), ('Japan', 'GPE'), ('Japan', 'GPE'), ('Japan', 'GPE'), ('New York', 'GPE'), ('Japan', 'GPE'), ('the United States', 'GPE'), ('Wikisource', 'GPE'), ('Washington', 'GPE'), ('Rome', 'GPE'), ('Italy', 'GPE'), ('Britain', 'GPE'), ('America', 'GPE'), ('the Soviet Union', 'GPE'), ('US', 'GPE'), ('the Soviet Union', 'GPE'), ('Romania', 'GPE'), ('Tokyo', 'GPE'), ('Light', 'GPE'), ('Japan', 'GPE'), ('the United States', 'GPE'), ('Japan', 'GPE'), ('Japan', 'GPE'), ('Manchuria', 'GPE'), ('Piotr', 'GPE'), ('Poland', 'GPE'), ('Poland', 'GPE'), ('Warsaw', 'GPE'), ('Didactica', 'GPE'), ('Warsaw', 'GPE'), ('Poland', 'GPE'), ('China', 'GPE'), ('China', 'GPE'), ('Friedrich', 'GPE'), ('Karsten', 'GPE'), ('Victims', 'GPE'), ('Volhynia', 'GPE'), ('Rummell', 'GPE'), ('Japan', 'GPE'), ('Washington, DC', 'GPE'), ('Philippines', 'GPE'), ('Japan', 'GPE'), ('China', 'GPE'), ('New York', 'GPE'), ('Macintyre', 'GPE'), ('London', 'GPE'), ('Rothstein', 'GPE'), ('Washington', 'GPE'), ('D.C.', 'GPE'), ('New York', 'GPE'), ('Japan', 'GPE'), ('London', 'GPE'), ('London', 'GPE'), ('Germany', 'GPE'), ('New Brunswick', 'GPE'), ('A.J.', 'GPE'), ('New York', 'GPE'), ('China', 'GPE'), ('New York', 'GPE'), ('Stalingrad', 'GPE'), ('New York', 'GPE'), ('London', 'GPE'), ('Belco', 'GPE'), ('Victoria', 'GPE'), ('Toronto', 'GPE'), ('Russia', 'GPE'), ('New York', 'GPE'), ('Eliahu', 'GPE'), ('History', 'GPE'), ('New York', 'GPE'), ('Bernstein', 'GPE'), ('Bilhartz', 'GPE'), ('the United States', 'GPE'), ('Armonk', 'GPE'), ('NY', 'GPE'), ('The Baltic States', 'GPE'), ('Ukraine', 'GPE'), ('Westport', 'GPE'), ('New York', 'GPE'), ('Bonner', 'GPE'), ('The United States', 'GPE'), ('New Brunswick', 'GPE'), ('London', 'GPE'), ('Alastair', 'GPE'), ('Cambridge', 'GPE'), ('London', 'GPE'), ('Westport', 'GPE'), ('New York', 'GPE'), ('France', 'GPE'), ('New York', 'GPE'), ('Russia', 'GPE'), ('Continuum', 'GPE'), ('China', 'GPE'), ('Japan', 'GPE'), ('Armonk', 'GPE'), ('NY', 'GPE'), ('Cienciala', 'GPE'), ('Poland', 'GPE'), ('Clogg', 'GPE'), ('Japan', 'GPE'), ('Germany', 'GPE'), ('Brassey', 'GPE'), ('Coogan', 'GPE'), ('London', 'GPE'), ('Boston', 'GPE'), ('London', 'GPE'), ('London', 'GPE'), ('DeLong', 'GPE'), ('New York', 'GPE'), ('de Grazia', 'GPE'), ('Victoria', 'GPE'), ('Paggi', 'GPE'), ('Moscow', 'GPE'), ('Lexington', 'GPE'), ('KY', 'GPE'), ('China', 'GPE'), ('China', 'GPE'), ('Maksudov', 'GPE'), ('Shukman', 'GPE'), ('London', 'GPE'), ('Stalingrad', 'GPE'), ('London', 'GPE'), ('MD', 'GPE'), ('London', 'GPE'), ('China', 'GPE'), ('Descent', 'GPE'), ('MN', 'GPE'), ('New York', 'GPE'), ('Germany', 'GPE'), ('New York', 'GPE'), ('London', 'GPE'), ('New York', 'GPE'), ('London', 'GPE'), ('Kursk', 'GPE'), ('Leningrad', 'GPE'), ('Manchuria', 'GPE'), ('Minneapolis', 'GPE'), ('Mikiso', 'GPE'), ('Japan', 'GPE'), ('Hanhimäki', 'GPE'), ('Russia', 'GPE'), ('Harris', 'GPE'), ('Harrison', 'GPE'), ('Milan', 'GPE'), ('Healy', 'GPE'), ('Mechanicsburg', 'GPE'), ('Sonja', 'GPE'), ('Lebanon', 'GPE'), ('NH', 'GPE'), ('Poland', 'GPE'), ('New York', 'GPE'), ('North-West Russia', 'GPE'), ('Holland', 'GPE'), ('Italy', 'GPE'), ('London', 'GPE'), ('Hosking', 'GPE'), ('the Soviet Union', 'GPE'), ('China', 'GPE'), ('New York', 'GPE'), ('Iriye', 'GPE'), ('Akira', 'GPE'), ('Cambridge', 'GPE'), ('The British Empire', 'GPE'), ('Hambledon', 'GPE'), ('Continuum', 'GPE'), ('Lexington', 'GPE'), ('Andrew', 'GPE'), ('London', 'GPE'), ('Grand Rapids', 'GPE'), ('Grand Rapids', 'GPE'), ('Keegan', 'GPE'), ('London', 'GPE'), ('New York', 'GPE'), ('London', 'GPE'), ('Germany', 'GPE'), ('Prudom', 'GPE'), ('H.W.', 'GPE'), ('New York', 'GPE'), ('Healing', 'GPE'), ('Armonk', 'GPE'), ('NY', 'GPE'), ('Westad', 'GPE'), ('Germany', 'GPE'), ('Westport', 'GPE'), ('Greenfield', 'GPE'), ('Washington', 'GPE'), ('DC', 'GPE'), ('London', 'GPE'), ('Westport', 'GPE'), ('C.J.', 'GPE'), ('London', 'GPE'), ('Macksey', 'GPE'), ('Cambridge', 'GPE'), ('The United States', 'GPE'), ('The United States', 'GPE'), ('Hiroshima', 'GPE'), ('Vietnam', 'GPE'), ('The United States', 'GPE'), ('the Soviet Union', 'GPE'), ('London', 'GPE'), ('Milward', 'GPE'), ('A.S.', 'GPE'), ('Minford', 'GPE'), ('UK', 'GPE'), ('Mingst', 'GPE'), ('Karns', 'GPE'), ('Potsdam', 'GPE'), ('Hiroshima', 'GPE'), ('New York', 'GPE'), ('Mechanicsburg', 'GPE'), ('Mitter', 'GPE'), ('China', 'GPE'), ('Naimark', 'GPE'), ('Japan', 'GPE'), ('Martin Harrop', 'GPE'), ('UK', 'GPE'), ('Nicosia', 'GPE'), ('New York', 'GPE'), ('New York', 'GPE'), ('London', 'GPE'), ('Germany', 'GPE'), ('Stalin', 'GPE'), ('Russia', 'GPE'), ('New York', 'GPE'), ('London', 'GPE'), ('Italy', 'GPE'), ('Lanham', 'GPE'), ('MD', 'GPE'), ('New York', 'GPE'), ('Japan', 'GPE'), ('Spain', 'GPE'), ('Germany', 'GPE'), ('New Haven', 'GPE'), ('Westport', 'GPE'), ('Baltimore', 'GPE'), ('MD', 'GPE'), ('Alessandro', 'GPE'), ('Rome', 'GPE'), ('Preston', 'GPE'), ('Radtke', 'GPE'), ('K.W.', 'GPE'), ('Hirota', 'GPE'), ('Germany', 'GPE'), ('R.A.', 'GPE'), ('New York', 'GPE'), ('New York', 'GPE'), ('London', 'GPE'), ('Laurence', 'GPE'), ('London', 'GPE'), ('Geoffrey', 'GPE'), ('Brassey', 'GPE'), ('Brassey', 'GPE'), ('Moscow', 'GPE'), ('New York', 'GPE'), ('France', 'GPE'), ('Martin Harrop', 'GPE'), ('New Haven', 'GPE'), ('London', 'GPE'), ('Baltimore', 'GPE'), ('MD', 'GPE'), ('Roskill', 'GPE'), ('S.W.', 'GPE'), ('London', 'GPE'), ('London', 'GPE'), ('Lanham', 'GPE'), ('MD', 'GPE'), ('Schofield', 'GPE'), ('B.B.', 'GPE'), ('New York', 'GPE'), ('New York', 'GPE'), ('London', 'GPE'), ('Russia', 'GPE'), ('London', 'GPE'), ('J.W.', 'GPE'), ('Purs', 'GPE'), ('The Baltic States', 'GPE'), ('Estonia', 'GPE'), ('Latvia', 'GPE'), ('Lithuania', 'GPE'), ('London', 'GPE'), ('London', 'GPE'), ('Sommerville', 'GPE'), ('Swain', 'GPE'), ('Swain', 'GPE'), ('London', 'GPE'), ('London', 'GPE'), ('China', 'GPE'), ('Cambridge', 'GPE'), ('Canada', 'GPE'), ('the United States', 'GPE'), ('Athens', 'GPE'), ('Germany', 'GPE'), ('Germany', 'GPE'), ('Washington', 'GPE'), ('DC', 'GPE'), ('Singapore', 'GPE'), ('France', 'GPE'), ('Lanham', 'GPE'), ('MD', 'GPE'), ('M.K.', 'GPE'), ('MN', 'GPE'), ('Palo Alto', 'GPE'), ('Germany', 'GPE'), ('Lanham', 'GPE'), ('MD', 'GPE'), ('Zalampas', 'GPE'), ('Zaloga', 'GPE'), ('Poland', 'GPE'), ('Niklas', 'GPE'), ('Germany', 'GPE'), ('Greatest Battleship', 'GPE'), ('Edit', 'GPE'), ('Wikidata', 'GPE'), ('South AfricaWars', 'GPE'), ('the Republic of ChinaWars', 'GPE'), ('Yugoslavia', 'GPE'), ('Tools', 'GPE'), ('UTC', 'GPE')]\n"
          ],
          "name": "stdout"
        }
      ]
    },
    {
      "cell_type": "markdown",
      "metadata": {
        "id": "IJMHNTqSIVVn",
        "colab_type": "text"
      },
      "source": [
        "With this we can pretty much see that spaCy is an efficient library for NLP tasks and thus is an effective tool for anyone who is planning to deal with a lot of data.\n",
        "\n",
        "Signing off - Vandan Patel and Parth Upadhayay"
      ]
    }
  ]
}
